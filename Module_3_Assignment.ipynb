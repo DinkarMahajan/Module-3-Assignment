{
  "nbformat": 4,
  "nbformat_minor": 0,
  "metadata": {
    "colab": {
      "provenance": []
    },
    "kernelspec": {
      "name": "python3",
      "display_name": "Python 3"
    },
    "language_info": {
      "name": "python"
    }
  },
  "cells": [
    {
      "cell_type": "markdown",
      "source": [
        "Data Types and Structure Questions"
      ],
      "metadata": {
        "id": "pRSXKEcJb-8P"
      }
    },
    {
      "cell_type": "markdown",
      "source": [
        "1.) What are data structures, and why are they important?\n",
        "\n",
        "Data structures are specialized formats for organizing, storing, and managing data efficiently. They enable computer to perform operations on data more effectively, depending on the problem at hand.Data structures define the way data is stored and how it can be accessed, manipulated, and updated.\n",
        "\n",
        "Importance of Data Structure:\n",
        "1)Efficient data access\n",
        "2)Optimised performance\n",
        "3)Problem solving and much more."
      ],
      "metadata": {
        "id": "GiBpoz4UcNwd"
      }
    },
    {
      "cell_type": "markdown",
      "source": [
        "2) Explain the difference between mutable and immutable data types with examples.\n",
        "\n",
        "Mutable objects are those whoose content or state can be changed or modified after the object is created.You can change,update,or delete elements inside the object.Example:- Lists,Dictionaries, and Sets.\n",
        "\n",
        "Immutable objects are those whose content or state cannot be changed after the object is created.Once the object is created, its value cannot be altered. If you want to change it, you create a new object with the modified value.Example:- Tuples,Strings,and Frozensets."
      ],
      "metadata": {
        "id": "2b3299xjdasp"
      }
    },
    {
      "cell_type": "markdown",
      "source": [
        "3) What are the main differences between lists and tuples in Python?\n",
        "\n",
        "List:-\n",
        "*   Mutable\n",
        "*   Syntax-[]\n",
        "*   Slower performance\n",
        "*   More methods available(e.g.,.append(),.pop(),.sort())\n",
        "\n",
        "Tuple:-\n",
        "\n",
        "*   Immutable\n",
        "*   Syntax-()\n",
        "*   Faster performance\n",
        "*   Fewer methods(e.g., .count(),.index())\n",
        "\n",
        "\n",
        "\n",
        "\n",
        "\n"
      ],
      "metadata": {
        "id": "mNLPIKO8e0St"
      }
    },
    {
      "cell_type": "markdown",
      "source": [
        "4) Describe how dictionaries store data.\n",
        "\n",
        "Dictionaries in python are data structures that store data as key-value pairs. Each key is unique, immutable, and maps to a specific value, allowing fast access to data.They are unordered collections,and the data is stored using a hash table for quick lookups,insertions,and deletions.Dictionaries are mutable,meaning you can change the values associated with keys, add new pairs, or remove existing ones."
      ],
      "metadata": {
        "id": "WGOUG7KzgEJP"
      }
    },
    {
      "cell_type": "markdown",
      "source": [
        "5) Why might you use a set instead of a list in Python?\n",
        "\n",
        "We use a set when we need unique items and want to avoid duplicates,want faster lookups,and dealing with large datasets where membership testing or set operations are needed.\n",
        "\n",
        "We use a list when we need ordered data and want to preserve the aequence of items and to allow duplicates or use indexing and slicing."
      ],
      "metadata": {
        "id": "xisevk3WhfYk"
      }
    },
    {
      "cell_type": "markdown",
      "source": [
        "6) What is a string in python, and how is it different from a list?\n",
        "\n",
        "A string in Python is an immutable sequence of characters(text),which can be enclosed in single or double quotes. It is used for handling textual data.\n",
        "\n",
        "A list is a mutable collection of items, which can be of mixed data types(numbers,strings,etc.) and can be modified(elements added,removed,or changed)."
      ],
      "metadata": {
        "id": "GFpwn8Tvigf8"
      }
    },
    {
      "cell_type": "markdown",
      "source": [
        "7) How do tuples ensure data integrity in Python?\n",
        "\n",
        "Tuples ensure data integrity in Python because they are immutable, meaning their contents cannot be changed once created. This prevents accidental modifications, ensures consistent data, and allows tuples to be used as keys in dictionaries or elements in sets. Their immutability also makes them safe in multi-threaded environments, avoiding data corruption."
      ],
      "metadata": {
        "id": "VRbU72cKir9e"
      }
    },
    {
      "cell_type": "markdown",
      "source": [
        "8) What is a hash table, how does it relate to dictionaries in Python?\n",
        "\n",
        "A hash table is a data structure that stores key-value pairs and uses a hash function to determine where to store and access data efficiently, providing fast lookups(O(1) on average).\n",
        "Python dictionaries are implemented using hash tables.Keys in a dictionary are hashed to quickly locate the corresponding value.This allows dictionaries to provide fast access to data based on unique keys."
      ],
      "metadata": {
        "id": "c8dnv9UNlGz7"
      }
    },
    {
      "cell_type": "markdown",
      "source": [
        "9) Can lists contain different data types in Python?\n",
        "\n",
        "Yes, lists in python can contain different data types. A list can hold integers,string,floats,other lists,or any other objects,allowing for heterogenous collections."
      ],
      "metadata": {
        "id": "Ph_b1tdflUVX"
      }
    },
    {
      "cell_type": "markdown",
      "source": [
        "10) Explain why strings are immutable in Python.\n",
        "\n",
        "Strings are immutable in python because their content cannot be changed after they are created. This immutability provides several benefits: it ensures data integrity, allows faster performance(since the same string object can be reused),and makes strings hashable,enabling them to be used as keys in dictionaries and elements in sets. This behaviour also prevents accidental modification of strings,promoting safer and more predictable code."
      ],
      "metadata": {
        "id": "zA1J5wzrldnX"
      }
    },
    {
      "cell_type": "markdown",
      "source": [
        "11) What advantages do dictionaries offer over lists for certain tasks?\n",
        "\n",
        "Dictionaries offer fast lookups, key-value pair storage , uniqueness and flexibility over lists"
      ],
      "metadata": {
        "id": "glLrz5MFnsIo"
      }
    },
    {
      "cell_type": "markdown",
      "source": [
        "12) Describe a scenario where using a tuple would be preferable over a list.\n",
        "\n",
        "A tuple is preferable over a list when you need to store a collection of items that should remain unchanged throughout the program, ensuring data integrity.\n",
        "\n",
        "Example Scenario:\n",
        "You are developing a program that stores the coordinates of ageographic location, such as (latitude,logitude). These values should remain constant because they represent a fixed point.\n",
        "Using a tuple ensures that these coordinates cannot be accidently modified : corrdinates = (40.7128,-74.0060)\n",
        "In contrast, using a list in this case would allow modifications, which could lead to data inconsistencies. Tuples are also more memory-efficient and hashable, making them suitable for use as dictionary keys or elements in sets."
      ],
      "metadata": {
        "id": "w0QJHYBT1O83"
      }
    },
    {
      "cell_type": "markdown",
      "source": [
        "13) How do sets handle duplicate values in Python?\n",
        "\n",
        "Sets automatically eliminate duplicate values.Sets use hash table for storage.When you add elements to a set, it ensures that only unique elements are stored. If a duplicate value is added, it is ignored, and the set remains unchanged."
      ],
      "metadata": {
        "id": "m9VMFYRE23yw"
      }
    },
    {
      "cell_type": "markdown",
      "source": [
        "14) How does the \"in\" keyword work differently for lists and dictionaries?\n",
        "\n",
        "Lists: \"in\" checks for the presence of an element in the list.\n",
        "Dictionaries: \"in\" checks for the presence of a key in the dictionary, not its values."
      ],
      "metadata": {
        "id": "XJtvHws94Hgb"
      }
    },
    {
      "cell_type": "markdown",
      "source": [
        "15) Can you modify the elements of a tuple?Explain why or why not.\n",
        "\n",
        "No,you cannot modify the elements of a tuple because tuples are immutable in Python. Once a tuple is created, its elements cannot be changed, added, or removed."
      ],
      "metadata": {
        "id": "xWfVVMhl41Us"
      }
    },
    {
      "cell_type": "markdown",
      "source": [
        "16) What is a nested dictionary,and give an example of its use case?\n",
        "\n",
        "A nested dictionary is a dictionary that contains other dictionaries as its values.It allows you to store and organize data in a hierarchical structure, making it useful for representing complex data relantionships.\n",
        "\n",
        "Use Case:\n",
        "A nested dictionary is particulary useful when you need to group related data under multiple categories."
      ],
      "metadata": {
        "id": "3DeQlebU5Xzt"
      }
    },
    {
      "cell_type": "markdown",
      "source": [
        "17) Describe the time complexity of accessing elements in a dictionary.\n",
        "\n",
        "The time complexity of accessing elements in a Python dictionary is:\n",
        "\n",
        "*   Average case: O(1) (fast lookups using harsh tables).\n",
        "*   Worst case: O(n) (rare, due to hash collisions).\n",
        "\n",
        "In practice, dictionary access is highly optimized,so lookups are typically very fast with constant time complexity.\n",
        "\n"
      ],
      "metadata": {
        "id": "IhIrxheh6iZ3"
      }
    },
    {
      "cell_type": "markdown",
      "source": [
        "18) In what situations are lists preferred over dictionaries?\n",
        "\n",
        "Lists are preferred over dictionaries when:\n",
        "\n",
        "1) Order matters(lists maintain element order).\n",
        "2) Index-based access is needed.\n",
        "3) Storing simple sequences without key-value pairs.\n",
        "4) Performing operations like sorting or filtering.\n",
        "5) Lower memory usage is important for large datasets.\n",
        "\n",
        "\n"
      ],
      "metadata": {
        "id": "Hkc6pbrY79dd"
      }
    },
    {
      "cell_type": "markdown",
      "source": [
        "19) Why are dictionaries considered unordered, and how does that affect data retreival?\n",
        "\n",
        "Dictionaries in Python were considered unordered before Python 3.7 because the elements were stored in an arbitrary order, not based on the order in which they were inserted.This was due to the internal implementation using a hash table, where keys are hashed to determine their location.\n",
        "\n",
        "How it affects data retrieval:\n",
        "1) Efficiency: Regardless of whether a dictionary is ordered or unordered, accessing values using keys is still O(1) on average.\n",
        "2) Retrieval by key: Keys are always retrieved directly through their hash value, not their position, so the insertion order does not impact retrieval performance."
      ],
      "metadata": {
        "id": "1eIZAB_H9dmn"
      }
    },
    {
      "cell_type": "markdown",
      "source": [
        "20) Explain the difference between a list and a dictionary in terms of data retrieval.\n",
        "\n",
        "Lists are accessed via indexes(position-based),while dictionaries are accessed via keys(named-based).\n",
        "\n",
        "Dictionaries offer faster retrieval (O(1)) on average, especially for large datasets, since lookups use keys and hash tables. Lists might require O(n) search time if you need to find a value by searching through the entire list."
      ],
      "metadata": {
        "id": "oaKA-lqO_ImC"
      }
    },
    {
      "cell_type": "markdown",
      "source": [
        "Practical Questions"
      ],
      "metadata": {
        "id": "k_7kxDYWASvG"
      }
    },
    {
      "cell_type": "markdown",
      "source": [
        "1) Write a code to create a string with your name and print it."
      ],
      "metadata": {
        "id": "rklvKmW8AXjq"
      }
    },
    {
      "cell_type": "code",
      "source": [
        "name = \"Dinkar Mahajan\"\n",
        "print(name)"
      ],
      "metadata": {
        "colab": {
          "base_uri": "https://localhost:8080/"
        },
        "id": "fm-dR4NIJVvd",
        "outputId": "4ffe612a-292d-4b68-cf2f-6a9d33542949"
      },
      "execution_count": 1,
      "outputs": [
        {
          "output_type": "stream",
          "name": "stdout",
          "text": [
            "Dinkar Mahajan\n"
          ]
        }
      ]
    },
    {
      "cell_type": "markdown",
      "source": [
        "2) Write a code to find the length of the string \"Hello World\"."
      ],
      "metadata": {
        "id": "hx8NKfzSJh7q"
      }
    },
    {
      "cell_type": "code",
      "source": [
        "string = \"Hello World\"\n",
        "length = len(string)\n",
        "print(length)"
      ],
      "metadata": {
        "colab": {
          "base_uri": "https://localhost:8080/"
        },
        "id": "wPN_u4OmJrHM",
        "outputId": "68b04d70-2046-4258-877a-ed930b24efcf"
      },
      "execution_count": 2,
      "outputs": [
        {
          "output_type": "stream",
          "name": "stdout",
          "text": [
            "11\n"
          ]
        }
      ]
    },
    {
      "cell_type": "markdown",
      "source": [
        "3) Write a code to slice the first 3 characters from the string \"Python Programming\"."
      ],
      "metadata": {
        "id": "UMNdNQHGJ5dl"
      }
    },
    {
      "cell_type": "code",
      "source": [
        "string = \"Python Programming\"\n",
        "sliced = string[:3]\n",
        "print(sliced)"
      ],
      "metadata": {
        "colab": {
          "base_uri": "https://localhost:8080/"
        },
        "id": "SZ5_FEZIKFI1",
        "outputId": "dd3c3b37-afa3-4d29-b4d4-b79ac2d2267e"
      },
      "execution_count": 3,
      "outputs": [
        {
          "output_type": "stream",
          "name": "stdout",
          "text": [
            "Pyt\n"
          ]
        }
      ]
    },
    {
      "cell_type": "markdown",
      "source": [
        "4) Write a code to convert the string \"hello\" to uppercase."
      ],
      "metadata": {
        "id": "-HVEq-9fKZjL"
      }
    },
    {
      "cell_type": "code",
      "source": [
        "string = \"hello\"\n",
        "uppercase_string = string.upper()\n",
        "print(uppercase_string)"
      ],
      "metadata": {
        "colab": {
          "base_uri": "https://localhost:8080/"
        },
        "id": "mXrfDza6KhFU",
        "outputId": "e147ab2b-1190-4551-be61-0fd908ee8347"
      },
      "execution_count": 4,
      "outputs": [
        {
          "output_type": "stream",
          "name": "stdout",
          "text": [
            "HELLO\n"
          ]
        }
      ]
    },
    {
      "cell_type": "markdown",
      "source": [
        "5) Write a code to replace the word \"apple\" with \"orange\" in the string \"I like apple\"."
      ],
      "metadata": {
        "id": "okuHG_XgKvCx"
      }
    },
    {
      "cell_type": "code",
      "source": [
        "string = \"I like apple\"\n",
        "new_string = string.replace(\"apple\",\"orange\")\n",
        "print(new_string)"
      ],
      "metadata": {
        "colab": {
          "base_uri": "https://localhost:8080/"
        },
        "id": "Qhx2ucBkK8Ko",
        "outputId": "20c820c2-5277-4e4f-ae2a-22daca7c0a91"
      },
      "execution_count": 5,
      "outputs": [
        {
          "output_type": "stream",
          "name": "stdout",
          "text": [
            "I like orange\n"
          ]
        }
      ]
    },
    {
      "cell_type": "markdown",
      "source": [
        "6) Write a code to create a list with numbers 1 to 5 and print it."
      ],
      "metadata": {
        "id": "aLzYi8VELSrM"
      }
    },
    {
      "cell_type": "code",
      "source": [
        "numbers = [1,2,3,4,5]\n",
        "print(numbers)"
      ],
      "metadata": {
        "colab": {
          "base_uri": "https://localhost:8080/"
        },
        "id": "Q7C6tx8LLfc_",
        "outputId": "90ee61b4-d1d3-47ae-d119-18ab70e7774f"
      },
      "execution_count": 6,
      "outputs": [
        {
          "output_type": "stream",
          "name": "stdout",
          "text": [
            "[1, 2, 3, 4, 5]\n"
          ]
        }
      ]
    },
    {
      "cell_type": "markdown",
      "source": [
        "7) Write a code to append the number 10 to the list [1,2,3,4]."
      ],
      "metadata": {
        "id": "-A3F3YsaLoGQ"
      }
    },
    {
      "cell_type": "code",
      "source": [
        "numbers = [1,2,3,4]\n",
        "numbers.append(10)\n",
        "print(numbers)"
      ],
      "metadata": {
        "colab": {
          "base_uri": "https://localhost:8080/"
        },
        "id": "_rlTnR-bLyLm",
        "outputId": "c971f232-e5e8-40d6-f704-5c5e09b781c8"
      },
      "execution_count": 7,
      "outputs": [
        {
          "output_type": "stream",
          "name": "stdout",
          "text": [
            "[1, 2, 3, 4, 10]\n"
          ]
        }
      ]
    },
    {
      "cell_type": "markdown",
      "source": [
        "8) Write a code to remove the number 3 from the list [1,2,3,4,5]."
      ],
      "metadata": {
        "id": "BlzTApNcL-t7"
      }
    },
    {
      "cell_type": "code",
      "source": [
        "numbers = [1,2,3,4,5]\n",
        "numbers.remove(3)\n",
        "print(numbers)"
      ],
      "metadata": {
        "colab": {
          "base_uri": "https://localhost:8080/"
        },
        "id": "9yoEnou6MH4y",
        "outputId": "ffb42902-d126-45c1-803f-8eff75b7dff8"
      },
      "execution_count": 8,
      "outputs": [
        {
          "output_type": "stream",
          "name": "stdout",
          "text": [
            "[1, 2, 4, 5]\n"
          ]
        }
      ]
    },
    {
      "cell_type": "markdown",
      "source": [
        "9) Write a code to access the second element in the list ['a','b','c','d']."
      ],
      "metadata": {
        "id": "QaudeukzMWHM"
      }
    },
    {
      "cell_type": "code",
      "source": [
        "letters = ['a','b','c','d']\n",
        "second_element = letters[1]\n",
        "print(second_element)"
      ],
      "metadata": {
        "colab": {
          "base_uri": "https://localhost:8080/"
        },
        "id": "BiEQ9JXqMi8l",
        "outputId": "f336526e-1661-41b2-8707-bb17ddb14263"
      },
      "execution_count": 9,
      "outputs": [
        {
          "output_type": "stream",
          "name": "stdout",
          "text": [
            "b\n"
          ]
        }
      ]
    },
    {
      "cell_type": "markdown",
      "source": [
        "10) Write a code to reverse the list [10,20,30,40,50]."
      ],
      "metadata": {
        "id": "NV_TzqWAM3J1"
      }
    },
    {
      "cell_type": "code",
      "source": [
        "numbers = [10,20,30,40,50]\n",
        "numbers.reverse()\n",
        "print(numbers)"
      ],
      "metadata": {
        "colab": {
          "base_uri": "https://localhost:8080/"
        },
        "id": "m8HAFYCBM_dV",
        "outputId": "07d18c29-68dc-45c2-f7bb-a63e7b146726"
      },
      "execution_count": 10,
      "outputs": [
        {
          "output_type": "stream",
          "name": "stdout",
          "text": [
            "[50, 40, 30, 20, 10]\n"
          ]
        }
      ]
    },
    {
      "cell_type": "markdown",
      "source": [
        "11) Write a code to create a tupe with the elements 10,20,30 and print it."
      ],
      "metadata": {
        "id": "t8w71wMMNRNK"
      }
    },
    {
      "cell_type": "code",
      "source": [
        "my_tuple = (10,20,30)\n",
        "print(my_tuple)"
      ],
      "metadata": {
        "colab": {
          "base_uri": "https://localhost:8080/"
        },
        "id": "fTEp8oqmNZ7p",
        "outputId": "0531b340-b136-4f61-cfc9-6ccf0cb2da93"
      },
      "execution_count": 11,
      "outputs": [
        {
          "output_type": "stream",
          "name": "stdout",
          "text": [
            "(10, 20, 30)\n"
          ]
        }
      ]
    },
    {
      "cell_type": "markdown",
      "source": [
        "12) Write a code access the first element of the tuple ('apple','banana','cherry')."
      ],
      "metadata": {
        "id": "MvRrkR7cNmOw"
      }
    },
    {
      "cell_type": "code",
      "source": [
        "my_tuple = ('apple','banana','cherry')\n",
        "first_element = my_tuple[0]\n",
        "print(first_element)"
      ],
      "metadata": {
        "colab": {
          "base_uri": "https://localhost:8080/"
        },
        "id": "hID-I49_N1a7",
        "outputId": "37bacb0d-02e4-48d4-cc4c-3e86e796f47a"
      },
      "execution_count": 12,
      "outputs": [
        {
          "output_type": "stream",
          "name": "stdout",
          "text": [
            "apple\n"
          ]
        }
      ]
    },
    {
      "cell_type": "markdown",
      "source": [
        "13) Write a code to count how many times the number 2 appears in the tuple (1,2,3,2,4,2)."
      ],
      "metadata": {
        "id": "GgTdEa2rOIgz"
      }
    },
    {
      "cell_type": "code",
      "source": [
        "my_tuple = (1,2,3,2,4,2)\n",
        "count_of_2 = my_tuple.count(2)\n",
        "print(count_of_2)"
      ],
      "metadata": {
        "colab": {
          "base_uri": "https://localhost:8080/"
        },
        "id": "r7UgDvAsOYc4",
        "outputId": "9a40a7ec-0ca6-490c-f5d0-1fa47ed44f76"
      },
      "execution_count": 13,
      "outputs": [
        {
          "output_type": "stream",
          "name": "stdout",
          "text": [
            "3\n"
          ]
        }
      ]
    },
    {
      "cell_type": "markdown",
      "source": [
        "14) Write a code to find the index of the element \"cat\" in the tuple('dog','cat','rabbit')."
      ],
      "metadata": {
        "id": "sdjKhy5IOm03"
      }
    },
    {
      "cell_type": "code",
      "source": [
        "my_tuple = ('dog','cat','rabbit')\n",
        "index_of_cat = my_tuple.index('cat')\n",
        "print(index_of_cat)"
      ],
      "metadata": {
        "colab": {
          "base_uri": "https://localhost:8080/"
        },
        "id": "mtzsFvSuO1tx",
        "outputId": "69ac2c91-e6bf-49b8-fef9-b529641ba68f"
      },
      "execution_count": 14,
      "outputs": [
        {
          "output_type": "stream",
          "name": "stdout",
          "text": [
            "1\n"
          ]
        }
      ]
    },
    {
      "cell_type": "markdown",
      "source": [
        "15) Write a code to check if the element \"banana\" is in the tuple ('apple','orange','banana')."
      ],
      "metadata": {
        "id": "Ryujh3O4PYkB"
      }
    },
    {
      "cell_type": "code",
      "source": [
        "my_tuple = ('apple','orange','banana')\n",
        "if 'banana' in my_tuple:\n",
        "  print(\"Yes, 'banana' is in the tuple.\")\n",
        "else:\n",
        "  print(\"No, 'banana' is not not in the tuple.\")"
      ],
      "metadata": {
        "colab": {
          "base_uri": "https://localhost:8080/"
        },
        "id": "GZ8Bk3RcPq6y",
        "outputId": "8cb74cef-2701-430f-c856-7eac6397532b"
      },
      "execution_count": 18,
      "outputs": [
        {
          "output_type": "stream",
          "name": "stdout",
          "text": [
            "Yes, 'banana' is in the tuple.\n"
          ]
        }
      ]
    },
    {
      "cell_type": "markdown",
      "source": [
        "16) Write a code to create a set with the elements 1,2,3,4,5 and print it."
      ],
      "metadata": {
        "id": "4vBqltZkQdgf"
      }
    },
    {
      "cell_type": "code",
      "source": [
        "my_set = {1,2,3,4,5}\n",
        "print(my_set)"
      ],
      "metadata": {
        "colab": {
          "base_uri": "https://localhost:8080/"
        },
        "id": "Z0BaLDb2QpYK",
        "outputId": "74e307c1-0dcb-4021-e2b2-7fc1745bb5a1"
      },
      "execution_count": 19,
      "outputs": [
        {
          "output_type": "stream",
          "name": "stdout",
          "text": [
            "{1, 2, 3, 4, 5}\n"
          ]
        }
      ]
    },
    {
      "cell_type": "markdown",
      "source": [
        "17) Write a code to add the element 6 to the set {1,2,3,4}."
      ],
      "metadata": {
        "id": "8fEDa2LzQ1YZ"
      }
    },
    {
      "cell_type": "code",
      "source": [
        "my_set = {1,2,3,4}\n",
        "my_set.add(6)\n",
        "print(my_set)"
      ],
      "metadata": {
        "colab": {
          "base_uri": "https://localhost:8080/"
        },
        "id": "8dAqmYBJTgQk",
        "outputId": "aa5e97a4-3443-4833-8f3f-0acb2b31b559"
      },
      "execution_count": 20,
      "outputs": [
        {
          "output_type": "stream",
          "name": "stdout",
          "text": [
            "{1, 2, 3, 4, 6}\n"
          ]
        }
      ]
    },
    {
      "cell_type": "markdown",
      "source": [
        "18) Write a code to create a tuple with the elements 10,20,30 and print it."
      ],
      "metadata": {
        "id": "7_9UcmAcTv2_"
      }
    },
    {
      "cell_type": "code",
      "source": [
        "my_tuple = (10,20,30)\n",
        "print(my_tuple)"
      ],
      "metadata": {
        "colab": {
          "base_uri": "https://localhost:8080/"
        },
        "id": "WPQSld06UDmU",
        "outputId": "24506905-8086-40f7-ff65-2f9469a1b74e"
      },
      "execution_count": 21,
      "outputs": [
        {
          "output_type": "stream",
          "name": "stdout",
          "text": [
            "(10, 20, 30)\n"
          ]
        }
      ]
    },
    {
      "cell_type": "markdown",
      "source": [
        "19) Write a code to access the first element of tuple ('apple','banana','cherry')."
      ],
      "metadata": {
        "id": "jw33QyvYUN7T"
      }
    },
    {
      "cell_type": "code",
      "source": [
        "my_tuple = ('apple','banana','cherry')\n",
        "first_element = my_tuple[0]\n",
        "print(first_element)"
      ],
      "metadata": {
        "colab": {
          "base_uri": "https://localhost:8080/"
        },
        "id": "FUgZ31bUUep8",
        "outputId": "1267a10e-dfa4-48a9-c3a0-d4152f03f166"
      },
      "execution_count": 22,
      "outputs": [
        {
          "output_type": "stream",
          "name": "stdout",
          "text": [
            "apple\n"
          ]
        }
      ]
    },
    {
      "cell_type": "markdown",
      "source": [
        "20) Write a code to count how many times the number 2 appears in the tuple (1,2,3,2,4,2)."
      ],
      "metadata": {
        "id": "kodHlAtCUsTX"
      }
    },
    {
      "cell_type": "code",
      "source": [
        "my_tuple = (1,2,3,2,4,2)\n",
        "count_of_2 = my_tuple.count(2)\n",
        "print(count_of_2)"
      ],
      "metadata": {
        "colab": {
          "base_uri": "https://localhost:8080/"
        },
        "id": "y3aZFBvRU6aA",
        "outputId": "40744d88-b43a-4cb1-ca0f-8e28f104d52c"
      },
      "execution_count": 23,
      "outputs": [
        {
          "output_type": "stream",
          "name": "stdout",
          "text": [
            "3\n"
          ]
        }
      ]
    },
    {
      "cell_type": "markdown",
      "source": [
        "21) Write a code to find the index of the element \"cat\" in the tuple ('dog','cat','rabbit')."
      ],
      "metadata": {
        "id": "wlGAqSdjVLJH"
      }
    },
    {
      "cell_type": "code",
      "source": [
        "my_tuple = ('dog','cat','rabbit')\n",
        "index_of_cat = my_tuple.index('cat')\n",
        "print(index_of_cat)"
      ],
      "metadata": {
        "colab": {
          "base_uri": "https://localhost:8080/"
        },
        "id": "BCcRYZ3DVg2T",
        "outputId": "f8dbcc25-3b01-4e9c-ad98-28415aa1824f"
      },
      "execution_count": 24,
      "outputs": [
        {
          "output_type": "stream",
          "name": "stdout",
          "text": [
            "1\n"
          ]
        }
      ]
    },
    {
      "cell_type": "markdown",
      "source": [
        "22) Write a code to check if the element \"banana\" is in the tuple ('apple','orange','banana')."
      ],
      "metadata": {
        "id": "rf9hTwUXVqaa"
      }
    },
    {
      "cell_type": "code",
      "source": [
        "my_tuple = ('apple','orange','banana')\n",
        "if 'banana' in my_tuple:\n",
        "  print(\"Yes, 'banana' is in the tuple.\")\n",
        "else:\n",
        "  print(\"No, 'banana' is not in the tuple.\")"
      ],
      "metadata": {
        "colab": {
          "base_uri": "https://localhost:8080/"
        },
        "id": "jW-eGZj1V7_7",
        "outputId": "61c7be54-d612-457c-bc66-5aebb04f5b34"
      },
      "execution_count": 25,
      "outputs": [
        {
          "output_type": "stream",
          "name": "stdout",
          "text": [
            "Yes, 'banana' is in the tuple.\n"
          ]
        }
      ]
    },
    {
      "cell_type": "markdown",
      "source": [
        "23) Write a code to create a set with the elements 1,2,3,4,5 and print it."
      ],
      "metadata": {
        "id": "mY9eem6TWLpT"
      }
    },
    {
      "cell_type": "code",
      "source": [
        "my_set = {1,2,3,4,5}\n",
        "print(my_set)"
      ],
      "metadata": {
        "colab": {
          "base_uri": "https://localhost:8080/"
        },
        "id": "sFx-7rVjWgr0",
        "outputId": "379933de-e75a-4b64-d79f-05435764a06a"
      },
      "execution_count": 26,
      "outputs": [
        {
          "output_type": "stream",
          "name": "stdout",
          "text": [
            "{1, 2, 3, 4, 5}\n"
          ]
        }
      ]
    },
    {
      "cell_type": "markdown",
      "source": [
        "24) Write a code to add the element 6 to the set {1,2,3,4}."
      ],
      "metadata": {
        "id": "6XxVa74WWncE"
      }
    },
    {
      "cell_type": "code",
      "source": [
        "my_set = {1,2,3,4}\n",
        "my_set.add(6)\n",
        "print(my_set)"
      ],
      "metadata": {
        "colab": {
          "base_uri": "https://localhost:8080/"
        },
        "id": "mUZeGz3MWz2E",
        "outputId": "27b99094-22f3-4a89-e645-2ac7820cc787"
      },
      "execution_count": 27,
      "outputs": [
        {
          "output_type": "stream",
          "name": "stdout",
          "text": [
            "{1, 2, 3, 4, 6}\n"
          ]
        }
      ]
    }
  ]
}